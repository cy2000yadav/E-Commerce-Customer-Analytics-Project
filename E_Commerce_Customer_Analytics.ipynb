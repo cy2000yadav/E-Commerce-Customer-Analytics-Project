{
  "nbformat": 4,
  "nbformat_minor": 0,
  "metadata": {
    "colab": {
      "provenance": []
    },
    "kernelspec": {
      "name": "python3",
      "display_name": "Python 3"
    },
    "language_info": {
      "name": "python"
    }
  },
  "cells": [
    {
      "cell_type": "code",
      "source": [
        "import pandas as pd\n",
        "import numpy as np\n",
        "import matplotlib.pyplot as plt\n",
        "import seaborn as sns\n",
        "from datetime import datetime, timedelta\n",
        "import warnings\n",
        "import random\n",
        "warnings.filterwarnings('ignore')\n",
        "\n",
        "print(\"📊 E-COMMERCE DATA ANALYTICS PROJECT\")\n",
        "print(\"=\"*60)\n",
        "print(\"🎯 Business Intelligence & Customer Insights Analysis\")"
      ],
      "metadata": {
        "colab": {
          "base_uri": "https://localhost:8080/"
        },
        "id": "HrrtJDNGOF6m",
        "outputId": "571b15b4-9cb6-4f39-b244-7f7b8ba83992"
      },
      "execution_count": 4,
      "outputs": [
        {
          "output_type": "stream",
          "name": "stdout",
          "text": [
            "📊 E-COMMERCE DATA ANALYTICS PROJECT\n",
            "============================================================\n",
            "🎯 Business Intelligence & Customer Insights Analysis\n"
          ]
        }
      ]
    },
    {
      "cell_type": "code",
      "source": [
        "# Set random seed for reproducibility\n",
        "np.random.seed(42)\n",
        "random.seed(42)"
      ],
      "metadata": {
        "id": "TDVnrAjLOJtu"
      },
      "execution_count": 5,
      "outputs": []
    },
    {
      "cell_type": "code",
      "source": [
        "# Generate customer data\n",
        "n_customers = 5000\n",
        "print(f\"   📝 Generating {n_customers:,} customers...\")\n",
        "\n",
        "customers_data = {\n",
        "    'customer_id': [f'CUST_{i:05d}' for i in range(1, n_customers + 1)],\n",
        "    'age': np.random.normal(35, 12, n_customers).clip(18, 70).astype(int),\n",
        "    'city': np.random.choice(['Mumbai', 'Delhi', 'Bangalore', 'Chennai', 'Hyderabad',\n",
        "                             'Pune', 'Kolkata', 'Ahmedabad', 'Jaipur', 'Lucknow'], n_customers),\n",
        "    'acquisition_channel': np.random.choice(['Organic Search', 'Social Media', 'Email',\n",
        "                                           'Paid Ads', 'Referral'], n_customers,\n",
        "                                          p=[0.3, 0.25, 0.2, 0.15, 0.1]),\n",
        "    'registration_date': pd.date_range(start='2022-01-01', end='2024-12-31', periods=n_customers)\n",
        "}\n",
        "\n",
        "customers_df = pd.DataFrame(customers_data)"
      ],
      "metadata": {
        "colab": {
          "base_uri": "https://localhost:8080/"
        },
        "id": "CAou2zSaOPw6",
        "outputId": "4322d3e4-9e3f-4196-da7f-fbeb84995e3c"
      },
      "execution_count": 6,
      "outputs": [
        {
          "output_type": "stream",
          "name": "stdout",
          "text": [
            "   📝 Generating 5,000 customers...\n"
          ]
        }
      ]
    },
    {
      "cell_type": "code",
      "source": [
        "# Generate transaction data\n",
        "n_transactions = 25000\n",
        "print(f\"   🛒 Generating {n_transactions:,} transactions...\")\n",
        "\n",
        "# Create more realistic transaction patterns\n",
        "transaction_customers = np.random.choice(customers_df['customer_id'], n_transactions,\n",
        "                                       p=np.random.dirichlet(np.ones(len(customers_df))))\n",
        "\n",
        "transactions_data = {\n",
        "    'transaction_id': [f'TXN_{i:06d}' for i in range(1, n_transactions + 1)],\n",
        "    'customer_id': transaction_customers,\n",
        "    'transaction_date': pd.date_range(start='2023-01-01', end='2024-12-31', periods=n_transactions) +\n",
        "                       pd.to_timedelta(np.random.randint(0, 24*60, n_transactions), unit='m'),\n",
        "    'product_category': np.random.choice(['Electronics', 'Clothing', 'Home & Garden', 'Books',\n",
        "                                        'Sports', 'Beauty', 'Toys', 'Food & Beverages'], n_transactions,\n",
        "                                       p=[0.2, 0.18, 0.15, 0.12, 0.1, 0.1, 0.08, 0.07]),\n",
        "    'amount': np.random.lognormal(mean=6, sigma=1, size=n_transactions).clip(100, 50000),\n",
        "    'payment_method': np.random.choice(['Credit Card', 'Debit Card', 'UPI', 'Net Banking', 'Wallet'],\n",
        "                                     n_transactions, p=[0.3, 0.25, 0.2, 0.15, 0.1]),\n",
        "    'discount_used': np.random.choice([0, 1], n_transactions, p=[0.7, 0.3]),\n",
        "    'return_flag': np.random.choice([0, 1], n_transactions, p=[0.92, 0.08])\n",
        "}\n",
        "\n",
        "transactions_df = pd.DataFrame(transactions_data)\n",
        "transactions_df['amount'] = transactions_df['amount'].round(2)\n",
        "\n",
        "print(f\"✅ Dataset generated successfully!\")\n",
        "print(f\"   📊 {len(customers_df):,} customers with {len(transactions_df):,} transactions\")"
      ],
      "metadata": {
        "colab": {
          "base_uri": "https://localhost:8080/"
        },
        "id": "-ZROXzQjOPzz",
        "outputId": "f7a597db-c69b-4987-c95a-2138eea21292"
      },
      "execution_count": 7,
      "outputs": [
        {
          "output_type": "stream",
          "name": "stdout",
          "text": [
            "   🛒 Generating 25,000 transactions...\n",
            "✅ Dataset generated successfully!\n",
            "   📊 5,000 customers with 25,000 transactions\n"
          ]
        }
      ]
    },
    {
      "cell_type": "code",
      "source": [
        "print(\"\\n🔄 Step 1: Business Analytics Setup...\")\n",
        "\n",
        "# Set up analysis parameters\n",
        "current_date = transactions_df['transaction_date'].max()\n",
        "analysis_start_date = current_date - timedelta(days=365)  # Last 12 months\n",
        "\n",
        "print(f\"📅 Analysis Period: {analysis_start_date.date()} to {current_date.date()}\")\n",
        "print(f\"📊 Dataset Overview: {len(customers_df):,} customers, {len(transactions_df):,} transactions\")"
      ],
      "metadata": {
        "colab": {
          "base_uri": "https://localhost:8080/"
        },
        "id": "W03Nhad5OP2T",
        "outputId": "13db5821-6813-4b7d-e8dd-0c3248482c1f"
      },
      "execution_count": 8,
      "outputs": [
        {
          "output_type": "stream",
          "name": "stdout",
          "text": [
            "\n",
            "🔄 Step 1: Business Analytics Setup...\n",
            "📅 Analysis Period: 2024-01-01 to 2024-12-31\n",
            "📊 Dataset Overview: 5,000 customers, 25,000 transactions\n"
          ]
        }
      ]
    },
    {
      "cell_type": "markdown",
      "source": [
        "# STEP 2: CUSTOMER SEGMENTATION ANALYSIS (RFM)"
      ],
      "metadata": {
        "id": "PeicmgakOdK4"
      }
    },
    {
      "cell_type": "code",
      "source": [
        "print(\"\\n🔄 Step 2: Customer Segmentation Analysis (RFM)...\")\n",
        "\n",
        "def perform_rfm_analysis(transactions_df, customers_df, current_date):\n",
        "    \"\"\"Perform RFM (Recency, Frequency, Monetary) Analysis\"\"\"\n",
        "\n",
        "    print(\"   📈 Calculating RFM metrics...\")\n",
        "\n",
        "    # Calculate RFM for each customer\n",
        "    rfm_data = transactions_df.groupby('customer_id').agg({\n",
        "        'transaction_date': 'max',  # Last purchase date\n",
        "        'transaction_id': 'count',  # Frequency\n",
        "        'amount': 'sum'  # Monetary value\n",
        "    }).reset_index()\n",
        "\n",
        "    # Calculate Recency (days since last purchase)\n",
        "    rfm_data['recency'] = (current_date - rfm_data['transaction_date']).dt.days\n",
        "    rfm_data['frequency'] = rfm_data['transaction_id']\n",
        "    rfm_data['monetary'] = rfm_data['amount']\n",
        "\n",
        "    # Create RFM scores (1-5 scale)\n",
        "    rfm_data['r_score'] = pd.qcut(rfm_data['recency'], 5, labels=[5,4,3,2,1])\n",
        "    rfm_data['f_score'] = pd.qcut(rfm_data['frequency'].rank(method='first'), 5, labels=[1,2,3,4,5])\n",
        "    rfm_data['m_score'] = pd.qcut(rfm_data['monetary'], 5, labels=[1,2,3,4,5])\n",
        "\n",
        "    # Combine RFM scores\n",
        "    rfm_data['rfm_score'] = rfm_data['r_score'].astype(str) + rfm_data['f_score'].astype(str) + rfm_data['m_score'].astype(str)\n",
        "\n",
        "    # Create customer segments based on RFM\n",
        "    def segment_customers(row):\n",
        "        if row['rfm_score'] in ['555', '554', '544', '545', '454', '455', '445']:\n",
        "            return 'Champions'\n",
        "        elif row['rfm_score'] in ['543', '444', '435', '355', '354', '345', '344', '335']:\n",
        "            return 'Loyal Customers'\n",
        "        elif row['rfm_score'] in ['512', '511', '422', '421', '412', '411', '311']:\n",
        "            return 'New Customers'\n",
        "        elif row['rfm_score'] in ['155', '154', '144', '214', '215', '115', '114']:\n",
        "            return 'At Risk'\n",
        "        elif row['rfm_score'] in ['155', '254', '245']:\n",
        "            return 'Cannot Lose Them'\n",
        "        elif row['rfm_score'] in ['331', '321', '231', '241', '251']:\n",
        "            return 'Hibernating'\n",
        "        else:\n",
        "            return 'Others'\n",
        "\n",
        "    rfm_data['customer_segment'] = rfm_data.apply(segment_customers, axis=1)\n",
        "\n",
        "    return rfm_data[['customer_id', 'recency', 'frequency', 'monetary', 'customer_segment']]"
      ],
      "metadata": {
        "colab": {
          "base_uri": "https://localhost:8080/"
        },
        "id": "GL0A_iUROP5A",
        "outputId": "82f5c305-846e-4caa-a3db-2ee56f448eb8"
      },
      "execution_count": 9,
      "outputs": [
        {
          "output_type": "stream",
          "name": "stdout",
          "text": [
            "\n",
            "🔄 Step 2: Customer Segmentation Analysis (RFM)...\n"
          ]
        }
      ]
    },
    {
      "cell_type": "code",
      "source": [
        "# Perform RFM Analysis\n",
        "rfm_results = perform_rfm_analysis(transactions_df, customers_df, current_date)\n",
        "\n",
        "print(f\"✅ RFM Analysis completed for {len(rfm_results):,} customers\")\n",
        "\n",
        "# Merge with customer data\n",
        "customer_analytics = pd.merge(customers_df, rfm_results, on='customer_id', how='inner')\n",
        "\n",
        "print(\"\\n📊 Customer Segmentation Results:\")\n",
        "segment_summary = customer_analytics.groupby('customer_segment').agg({\n",
        "    'customer_id': 'count',\n",
        "    'monetary': ['mean', 'sum'],\n",
        "    'frequency': 'mean',\n",
        "    'recency': 'mean'\n",
        "}).round(2)\n",
        "\n",
        "segment_summary.columns = ['customer_count', 'avg_clv', 'total_revenue', 'avg_frequency', 'avg_recency']\n",
        "segment_summary['revenue_percentage'] = (segment_summary['total_revenue'] / segment_summary['total_revenue'].sum() * 100).round(1)\n",
        "\n",
        "for segment, data in segment_summary.iterrows():\n",
        "    print(f\"   • {segment}: {data['customer_count']:,} customers ({data['customer_count']/len(customer_analytics)*100:.1f}%)\")\n",
        "    print(f\"     - Avg CLV: ₹{data['avg_clv']:,.2f}\")\n",
        "    print(f\"     - Revenue Share: {data['revenue_percentage']:.1f}%\")\n",
        "    print(f\"     - Avg Recency: {data['avg_recency']:.0f} days\")"
      ],
      "metadata": {
        "colab": {
          "base_uri": "https://localhost:8080/"
        },
        "id": "Dak6YAeyOP7x",
        "outputId": "c5e43dd2-4c3b-446f-9314-071f130f6f61"
      },
      "execution_count": 10,
      "outputs": [
        {
          "output_type": "stream",
          "name": "stdout",
          "text": [
            "   📈 Calculating RFM metrics...\n",
            "✅ RFM Analysis completed for 4,160 customers\n",
            "\n",
            "📊 Customer Segmentation Results:\n",
            "   • At Risk: 22.0 customers (0.5%)\n",
            "     - Avg CLV: ₹5,068.66\n",
            "     - Revenue Share: 0.7%\n",
            "     - Avg Recency: 407 days\n",
            "   • Cannot Lose Them: 39.0 customers (0.9%)\n",
            "     - Avg CLV: ₹6,492.84\n",
            "     - Revenue Share: 1.5%\n",
            "     - Avg Recency: 193 days\n",
            "   • Champions: 823.0 customers (19.8%)\n",
            "     - Avg CLV: ₹9,685.67\n",
            "     - Revenue Share: 47.6%\n",
            "     - Avg Recency: 26 days\n",
            "   • Hibernating: 64.0 customers (1.5%)\n",
            "     - Avg CLV: ₹532.29\n",
            "     - Revenue Share: 0.2%\n",
            "     - Avg Recency: 117 days\n",
            "   • Loyal Customers: 476.0 customers (11.4%)\n",
            "     - Avg CLV: ₹6,253.12\n",
            "     - Revenue Share: 17.8%\n",
            "     - Avg Recency: 82 days\n",
            "   • New Customers: 240.0 customers (5.8%)\n",
            "     - Avg CLV: ₹689.36\n",
            "     - Revenue Share: 1.0%\n",
            "     - Avg Recency: 62 days\n",
            "   • Others: 2,496.0 customers (60.0%)\n",
            "     - Avg CLV: ₹2,098.17\n",
            "     - Revenue Share: 31.3%\n",
            "     - Avg Recency: 240 days\n"
          ]
        }
      ]
    },
    {
      "cell_type": "markdown",
      "source": [
        "# STEP 3: REVENUE ANALYTICS & TRENDS"
      ],
      "metadata": {
        "id": "AJakkexJOqrJ"
      }
    },
    {
      "cell_type": "code",
      "source": [
        "# Monthly revenue analysis\n",
        "monthly_revenue = transactions_df.groupby(transactions_df['transaction_date'].dt.to_period('M')).agg({\n",
        "    'amount': 'sum',\n",
        "    'transaction_id': 'count',\n",
        "    'customer_id': 'nunique'\n",
        "}).reset_index()\n",
        "\n",
        "monthly_revenue.columns = ['month', 'revenue', 'transactions', 'unique_customers']\n",
        "monthly_revenue['avg_order_value'] = (monthly_revenue['revenue'] / monthly_revenue['transactions']).round(2)\n",
        "monthly_revenue['revenue_per_customer'] = (monthly_revenue['revenue'] / monthly_revenue['unique_customers']).round(2)\n",
        "\n",
        "print(f\"📈 Monthly Revenue Trends (Last 12 months):\")\n",
        "for _, row in monthly_revenue.tail(12).iterrows():\n",
        "    print(f\"   • {row['month']}: ₹{row['revenue']:,.2f} | {row['transactions']:,} orders | AOV: ₹{row['avg_order_value']}\")\n",
        "\n",
        "# Calculate growth rates\n",
        "monthly_revenue['revenue_growth'] = monthly_revenue['revenue'].pct_change() * 100\n",
        "monthly_revenue['transaction_growth'] = monthly_revenue['transactions'].pct_change() * 100\n",
        "\n",
        "latest_growth = monthly_revenue.iloc[-1]\n",
        "print(f\"\\n📊 Latest Month Performance:\")\n",
        "print(f\"   • Revenue Growth: {latest_growth['revenue_growth']:+.1f}%\")\n",
        "print(f\"   • Transaction Growth: {latest_growth['transaction_growth']:+.1f}%\")"
      ],
      "metadata": {
        "colab": {
          "base_uri": "https://localhost:8080/"
        },
        "id": "kTamo8wQOP-O",
        "outputId": "fd52568a-1644-473b-c88b-a716e1023480"
      },
      "execution_count": 11,
      "outputs": [
        {
          "output_type": "stream",
          "name": "stdout",
          "text": [
            "📈 Monthly Revenue Trends (Last 12 months):\n",
            "   • 2024-01: ₹709,365.64 | 1,061 orders | AOV: ₹668.58\n",
            "   • 2024-02: ₹656,385.24 | 989 orders | AOV: ₹663.69\n",
            "   • 2024-03: ₹715,619.42 | 1,061 orders | AOV: ₹674.48\n",
            "   • 2024-04: ₹692,099.43 | 1,032 orders | AOV: ₹670.64\n",
            "   • 2024-05: ₹726,101.71 | 1,060 orders | AOV: ₹685.0\n",
            "   • 2024-06: ₹665,363.34 | 1,026 orders | AOV: ₹648.5\n",
            "   • 2024-07: ₹690,239.87 | 1,063 orders | AOV: ₹649.33\n",
            "   • 2024-08: ₹735,138.08 | 1,060 orders | AOV: ₹693.53\n",
            "   • 2024-09: ₹675,905.75 | 1,028 orders | AOV: ₹657.5\n",
            "   • 2024-10: ₹700,939.57 | 1,067 orders | AOV: ₹656.93\n",
            "   • 2024-11: ₹691,003.29 | 1,020 orders | AOV: ₹677.45\n",
            "   • 2024-12: ₹731,454.80 | 1,047 orders | AOV: ₹698.62\n",
            "\n",
            "📊 Latest Month Performance:\n",
            "   • Revenue Growth: +5.9%\n",
            "   • Transaction Growth: +2.6%\n"
          ]
        }
      ]
    },
    {
      "cell_type": "markdown",
      "source": [
        "# STEP 4: PRODUCT CATEGORY ANALYSIS"
      ],
      "metadata": {
        "id": "wZwzxICoO0B_"
      }
    },
    {
      "cell_type": "code",
      "source": [
        "# Category performance analysis\n",
        "category_analysis = transactions_df.groupby('product_category').agg({\n",
        "    'amount': ['sum', 'mean', 'count'],\n",
        "    'customer_id': 'nunique',\n",
        "    'return_flag': 'sum',\n",
        "    'discount_used': 'sum'\n",
        "}).round(2)\n",
        "\n",
        "category_analysis.columns = ['total_revenue', 'avg_order_value', 'total_orders', 'unique_customers', 'returns', 'discounts_used']\n",
        "category_analysis['revenue_share'] = (category_analysis['total_revenue'] / category_analysis['total_revenue'].sum() * 100).round(1)\n",
        "category_analysis['return_rate'] = (category_analysis['returns'] / category_analysis['total_orders'] * 100).round(1)\n",
        "category_analysis['discount_rate'] = (category_analysis['discounts_used'] / category_analysis['total_orders'] * 100).round(1)\n",
        "\n",
        "# Sort by revenue\n",
        "category_analysis = category_analysis.sort_values('total_revenue', ascending=False)\n",
        "\n",
        "print(f\"🛍️ Product Category Performance:\")\n",
        "print(f\"   Top 5 Categories by Revenue:\")\n",
        "for category, data in category_analysis.head(5).iterrows():\n",
        "    print(f\"   • {category}:\")\n",
        "    print(f\"     - Revenue: ₹{data['total_revenue']:,.2f} ({data['revenue_share']:.1f}%)\")\n",
        "    print(f\"     - Orders: {data['total_orders']:,} | AOV: ₹{data['avg_order_value']:,.2f}\")\n",
        "    print(f\"     - Return Rate: {data['return_rate']:.1f}% | Discount Rate: {data['discount_rate']:.1f}%\")"
      ],
      "metadata": {
        "colab": {
          "base_uri": "https://localhost:8080/"
        },
        "id": "zRj_MBViOqFQ",
        "outputId": "89a19faa-f75d-4849-cf05-48009aea0c7c"
      },
      "execution_count": 12,
      "outputs": [
        {
          "output_type": "stream",
          "name": "stdout",
          "text": [
            "🛍️ Product Category Performance:\n",
            "   Top 5 Categories by Revenue:\n",
            "   • Electronics:\n",
            "     - Revenue: ₹3,287,363.06 (19.6%)\n",
            "     - Orders: 4,976.0 | AOV: ₹660.64\n",
            "     - Return Rate: 8.0% | Discount Rate: 30.0%\n",
            "   • Clothing:\n",
            "     - Revenue: ₹2,976,613.02 (17.8%)\n",
            "     - Orders: 4,489.0 | AOV: ₹663.09\n",
            "     - Return Rate: 8.8% | Discount Rate: 30.7%\n",
            "   • Home & Garden:\n",
            "     - Revenue: ₹2,480,188.32 (14.8%)\n",
            "     - Orders: 3,699.0 | AOV: ₹670.50\n",
            "     - Return Rate: 7.7% | Discount Rate: 30.4%\n",
            "   • Books:\n",
            "     - Revenue: ₹2,047,607.06 (12.2%)\n",
            "     - Orders: 2,991.0 | AOV: ₹684.59\n",
            "     - Return Rate: 7.7% | Discount Rate: 30.5%\n",
            "   • Beauty:\n",
            "     - Revenue: ₹1,745,355.77 (10.4%)\n",
            "     - Orders: 2,630.0 | AOV: ₹663.63\n",
            "     - Return Rate: 7.8% | Discount Rate: 30.4%\n"
          ]
        }
      ]
    },
    {
      "cell_type": "markdown",
      "source": [
        "# STEP 5: CUSTOMER BEHAVIOR ANALYTICS"
      ],
      "metadata": {
        "id": "5xjcxBQHO9oX"
      }
    },
    {
      "cell_type": "code",
      "source": [
        "# Customer behavior patterns\n",
        "behavior_analysis = customer_analytics.groupby(['city', 'age']).agg({\n",
        "    'monetary': 'mean',\n",
        "    'frequency': 'mean',\n",
        "    'customer_id': 'count'\n",
        "}).reset_index()\n",
        "\n",
        "behavior_analysis = behavior_analysis[behavior_analysis['customer_id'] >= 50]  # Filter for statistical significance\n",
        "\n",
        "print(f\"🌆 Geographic Performance (Top Cities by Avg CLV):\")\n",
        "city_performance = customer_analytics.groupby('city').agg({\n",
        "    'monetary': 'mean',\n",
        "    'frequency': 'mean',\n",
        "    'customer_id': 'count'\n",
        "}).sort_values('monetary', ascending=False).head(5)\n",
        "\n",
        "for city, data in city_performance.iterrows():\n",
        "    print(f\"   • {city}: ₹{data['monetary']:,.2f} avg CLV | {data['frequency']:.1f} avg frequency | {data['customer_id']:,} customers\")\n",
        "\n",
        "# Age group analysis\n",
        "customer_analytics['age_group'] = pd.cut(customer_analytics['age'],\n",
        "                                        bins=[0, 25, 35, 45, 55, 100],\n",
        "                                        labels=['18-25', '26-35', '36-45', '46-55', '55+'])\n",
        "\n",
        "age_analysis = customer_analytics.groupby('age_group').agg({\n",
        "    'monetary': 'mean',\n",
        "    'frequency': 'mean',\n",
        "    'customer_id': 'count'\n",
        "}).round(2)\n",
        "\n",
        "print(f\"\\n👥 Age Group Performance:\")\n",
        "for age_group, data in age_analysis.iterrows():\n",
        "    print(f\"   • {age_group}: ₹{data['monetary']:,.2f} avg CLV | {data['frequency']:.1f} avg frequency | {data['customer_id']:,} customers\")"
      ],
      "metadata": {
        "colab": {
          "base_uri": "https://localhost:8080/"
        },
        "id": "VL5pypHXOqIA",
        "outputId": "84697e71-921d-4966-da94-d34aebdea61b"
      },
      "execution_count": 13,
      "outputs": [
        {
          "output_type": "stream",
          "name": "stdout",
          "text": [
            "🌆 Geographic Performance (Top Cities by Avg CLV):\n",
            "   • Jaipur: ₹4,427.68 avg CLV | 6.4 avg frequency | 418.0 customers\n",
            "   • Delhi: ₹4,318.77 avg CLV | 6.5 avg frequency | 386.0 customers\n",
            "   • Kolkata: ₹4,283.44 avg CLV | 6.2 avg frequency | 421.0 customers\n",
            "   • Lucknow: ₹4,252.48 avg CLV | 6.3 avg frequency | 429.0 customers\n",
            "   • Pune: ₹4,052.73 avg CLV | 6.3 avg frequency | 419.0 customers\n",
            "\n",
            "👥 Age Group Performance:\n",
            "   • 18-25: ₹3,807.39 avg CLV | 5.7 avg frequency | 943.0 customers\n",
            "   • 26-35: ₹3,904.21 avg CLV | 5.9 avg frequency | 1,256.0 customers\n",
            "   • 36-45: ₹4,160.54 avg CLV | 6.2 avg frequency | 1,229.0 customers\n",
            "   • 46-55: ₹4,307.39 avg CLV | 6.4 avg frequency | 575.0 customers\n",
            "   • 55+: ₹4,235.33 avg CLV | 6.0 avg frequency | 157.0 customers\n"
          ]
        }
      ]
    },
    {
      "cell_type": "markdown",
      "source": [
        "# STEP 6: CHURN & RETENTION ANALYSIS"
      ],
      "metadata": {
        "id": "R67hcdK2PHE5"
      }
    },
    {
      "cell_type": "code",
      "source": [
        "# Define churn based on recency\n",
        "churn_threshold_days = 90\n",
        "customer_analytics['is_churned'] = (customer_analytics['recency'] > churn_threshold_days).astype(int)\n",
        "customer_analytics['customer_status'] = customer_analytics['is_churned'].map({0: 'Active', 1: 'Churned'})\n",
        "\n",
        "churn_analysis = customer_analytics.groupby('customer_status').agg({\n",
        "    'customer_id': 'count',\n",
        "    'monetary': ['mean', 'sum']\n",
        "}).round(2)\n",
        "\n",
        "churn_analysis.columns = ['customer_count', 'avg_clv', 'total_value']\n",
        "\n",
        "print(f\"📉 Churn Analysis (>{churn_threshold_days} days inactive):\")\n",
        "for status, data in churn_analysis.iterrows():\n",
        "    percentage = data['customer_count'] / len(customer_analytics) * 100\n",
        "    print(f\"   • {status}: {data['customer_count']:,} customers ({percentage:.1f}%)\")\n",
        "    print(f\"     - Avg CLV: ₹{data['avg_clv']:,.2f}\")\n",
        "    print(f\"     - Total Value: ₹{data['total_value']:,.2f}\")\n",
        "\n",
        "# High-risk customers (high value but churned)\n",
        "high_value_threshold = customer_analytics['monetary'].quantile(0.8)\n",
        "high_risk_customers = customer_analytics[\n",
        "    (customer_analytics['is_churned'] == 1) &\n",
        "    (customer_analytics['monetary'] > high_value_threshold)\n",
        "]\n",
        "\n",
        "print(f\"\\n🚨 High-Risk Analysis:\")\n",
        "print(f\"   • {len(high_risk_customers):,} high-value customers have churned\")\n",
        "print(f\"   • Revenue at risk: ₹{high_risk_customers['monetary'].sum():,.2f}\")\n",
        "if len(high_risk_customers) > 0:\n",
        "    print(f\"   • Avg value per high-risk customer: ₹{high_risk_customers['monetary'].mean():,.2f}\")"
      ],
      "metadata": {
        "colab": {
          "base_uri": "https://localhost:8080/"
        },
        "id": "em81lgdoOqKl",
        "outputId": "c3ebca4e-cf67-451d-88de-36f916073259"
      },
      "execution_count": 14,
      "outputs": [
        {
          "output_type": "stream",
          "name": "stdout",
          "text": [
            "📉 Churn Analysis (>90 days inactive):\n",
            "   • Active: 1,900.0 customers (45.7%)\n",
            "     - Avg CLV: ₹5,929.21\n",
            "     - Total Value: ₹11,265,504.07\n",
            "   • Churned: 2,260.0 customers (54.3%)\n",
            "     - Avg CLV: ₹2,426.35\n",
            "     - Total Value: ₹5,483,551.99\n",
            "\n",
            "🚨 High-Risk Analysis:\n",
            "   • 171 high-value customers have churned\n",
            "   • Revenue at risk: ₹1,551,911.69\n",
            "   • Avg value per high-risk customer: ₹9,075.51\n"
          ]
        }
      ]
    },
    {
      "cell_type": "markdown",
      "source": [
        "# STEP 7: PAYMENT & CHANNEL ANALYTICS"
      ],
      "metadata": {
        "id": "T53dMuMePOil"
      }
    },
    {
      "cell_type": "code",
      "source": [
        "# Payment method analysis\n",
        "payment_analysis = transactions_df.groupby('payment_method').agg({\n",
        "    'amount': ['sum', 'mean', 'count'],\n",
        "    'return_flag': 'sum'\n",
        "}).round(2)\n",
        "\n",
        "payment_analysis.columns = ['total_revenue', 'avg_order_value', 'transaction_count', 'returns']\n",
        "payment_analysis['return_rate'] = (payment_analysis['returns'] / payment_analysis['transaction_count'] * 100).round(1)\n",
        "payment_analysis = payment_analysis.sort_values('total_revenue', ascending=False)\n",
        "\n",
        "print(f\"💳 Payment Method Performance:\")\n",
        "for method, data in payment_analysis.iterrows():\n",
        "    print(f\"   • {method}: ₹{data['total_revenue']:,.2f} | AOV: ₹{data['avg_order_value']:,.2f} | Return Rate: {data['return_rate']:.1f}%\")\n",
        "\n",
        "# Acquisition channel analysis\n",
        "channel_performance = pd.merge(\n",
        "    customers_df[['customer_id', 'acquisition_channel']],\n",
        "    rfm_results[['customer_id', 'monetary', 'frequency']],\n",
        "    on='customer_id'\n",
        ")\n",
        "\n",
        "channel_analysis = channel_performance.groupby('acquisition_channel').agg({\n",
        "    'monetary': 'mean',\n",
        "    'frequency': 'mean',\n",
        "    'customer_id': 'count'\n",
        "}).sort_values('monetary', ascending=False).round(2)\n",
        "\n",
        "print(f\"\\n📈 Acquisition Channel Performance:\")\n",
        "for channel, data in channel_analysis.iterrows():\n",
        "    print(f\"   • {channel}: ₹{data['monetary']:,.2f} avg CLV | {data['frequency']:.1f} avg frequency | {data['customer_id']:,} customers\")"
      ],
      "metadata": {
        "colab": {
          "base_uri": "https://localhost:8080/"
        },
        "id": "x9awJyUFOqNR",
        "outputId": "39028189-290f-4c77-f142-bd6bab91480d"
      },
      "execution_count": 15,
      "outputs": [
        {
          "output_type": "stream",
          "name": "stdout",
          "text": [
            "💳 Payment Method Performance:\n",
            "   • Credit Card: ₹5,060,986.92 | AOV: ₹679.42 | Return Rate: 7.9%\n",
            "   • Debit Card: ₹4,194,436.75 | AOV: ₹668.01 | Return Rate: 8.0%\n",
            "   • UPI: ₹3,191,523.46 | AOV: ₹641.00 | Return Rate: 8.4%\n",
            "   • Net Banking: ₹2,575,555.52 | AOV: ₹682.27 | Return Rate: 8.5%\n",
            "   • Wallet: ₹1,726,553.41 | AOV: ₹685.68 | Return Rate: 7.6%\n",
            "\n",
            "📈 Acquisition Channel Performance:\n",
            "   • Referral: ₹4,203.72 avg CLV | 6.3 avg frequency | 400.0 customers\n",
            "   • Email: ₹4,069.41 avg CLV | 6.0 avg frequency | 844.0 customers\n",
            "   • Paid Ads: ₹4,068.54 avg CLV | 6.0 avg frequency | 609.0 customers\n",
            "   • Social Media: ₹3,975.85 avg CLV | 6.0 avg frequency | 1,057.0 customers\n",
            "   • Organic Search: ₹3,962.22 avg CLV | 6.0 avg frequency | 1,250.0 customers\n"
          ]
        }
      ]
    },
    {
      "cell_type": "markdown",
      "source": [
        "# STEP 8: BUSINESS RECOMMENDATIONS"
      ],
      "metadata": {
        "id": "i7mC_2jGPVKr"
      }
    },
    {
      "cell_type": "code",
      "source": [
        "# Top insights\n",
        "total_customers = len(customer_analytics)\n",
        "total_revenue = customer_analytics['monetary'].sum()\n",
        "avg_clv = customer_analytics['monetary'].mean()\n",
        "churn_rate = customer_analytics['is_churned'].mean() * 100\n",
        "\n",
        "print(f\"\\n📊 Executive Summary:\")\n",
        "print(f\"   • Total Customers: {total_customers:,}\")\n",
        "print(f\"   • Total Revenue: ₹{total_revenue:,.2f}\")\n",
        "print(f\"   • Average CLV: ₹{avg_clv:,.2f}\")\n",
        "print(f\"   • Churn Rate: {churn_rate:.1f}%\")\n",
        "\n",
        "print(f\"\\n🎯 Strategic Recommendations:\")\n",
        "\n",
        "# Champions segment\n",
        "champions = customer_analytics[customer_analytics['customer_segment'] == 'Champions']\n",
        "print(f\"   1. RETAIN CHAMPIONS ({len(champions):,} customers)\")\n",
        "print(f\"      • Launch VIP loyalty program\")\n",
        "print(f\"      • Offer exclusive early access to new products\")\n",
        "if len(champions) > 0:\n",
        "    print(f\"      • Average value: ₹{champions['monetary'].mean():,.2f}\")\n",
        "\n",
        "# At Risk segment\n",
        "at_risk = customer_analytics[customer_analytics['customer_segment'] == 'At Risk']\n",
        "if len(at_risk) > 0:\n",
        "    print(f\"   2. WIN BACK AT-RISK ({len(at_risk):,} customers)\")\n",
        "    print(f\"      • Send personalized discount offers\")\n",
        "    print(f\"      • Re-engagement email campaign\")\n",
        "    print(f\"      • Potential revenue recovery: ₹{at_risk['monetary'].sum():,.2f}\")\n",
        "\n",
        "# High-value churned\n",
        "if len(high_risk_customers) > 0:\n",
        "    print(f\"   3. RECOVER HIGH-VALUE CHURNED ({len(high_risk_customers):,} customers)\")\n",
        "    print(f\"      • Immediate intervention required\")\n",
        "    print(f\"      • Premium win-back offers\")\n",
        "    print(f\"      • Revenue at stake: ₹{high_risk_customers['monetary'].sum():,.2f}\")\n",
        "\n",
        "# Category insights\n",
        "top_category = category_analysis.index[0]\n",
        "print(f\"   4. OPTIMIZE {top_category.upper()} CATEGORY\")\n",
        "print(f\"      • Top revenue generator: ₹{category_analysis.loc[top_category, 'total_revenue']:,.2f}\")\n",
        "print(f\"      • Focus on inventory and marketing investment\")"
      ],
      "metadata": {
        "colab": {
          "base_uri": "https://localhost:8080/"
        },
        "id": "79rawMwyPMTD",
        "outputId": "71ac1c56-794a-48a2-f4d2-2a9145f7be23"
      },
      "execution_count": 16,
      "outputs": [
        {
          "output_type": "stream",
          "name": "stdout",
          "text": [
            "\n",
            "📊 Executive Summary:\n",
            "   • Total Customers: 4,160\n",
            "   • Total Revenue: ₹16,749,056.06\n",
            "   • Average CLV: ₹4,026.22\n",
            "   • Churn Rate: 54.3%\n",
            "\n",
            "🎯 Strategic Recommendations:\n",
            "   1. RETAIN CHAMPIONS (823 customers)\n",
            "      • Launch VIP loyalty program\n",
            "      • Offer exclusive early access to new products\n",
            "      • Average value: ₹9,685.67\n",
            "   2. WIN BACK AT-RISK (22 customers)\n",
            "      • Send personalized discount offers\n",
            "      • Re-engagement email campaign\n",
            "      • Potential revenue recovery: ₹111,510.49\n",
            "   3. RECOVER HIGH-VALUE CHURNED (171 customers)\n",
            "      • Immediate intervention required\n",
            "      • Premium win-back offers\n",
            "      • Revenue at stake: ₹1,551,911.69\n",
            "   4. OPTIMIZE ELECTRONICS CATEGORY\n",
            "      • Top revenue generator: ₹3,287,363.06\n",
            "      • Focus on inventory and marketing investment\n"
          ]
        }
      ]
    },
    {
      "cell_type": "markdown",
      "source": [
        "# STEP 9: EXPORT ANALYTICS RESULTS"
      ],
      "metadata": {
        "id": "MsMhuULtPckh"
      }
    },
    {
      "cell_type": "code",
      "source": [
        "# Save comprehensive analytics results\n",
        "analytics_summary = customer_analytics[['customer_id', 'age', 'city', 'acquisition_channel',\n",
        "                                       'customer_segment', 'monetary', 'frequency', 'recency',\n",
        "                                       'customer_status']].copy()\n",
        "\n",
        "analytics_summary.to_csv('customer_analytics_results.csv', index=False)\n",
        "print(f\"✅ Customer analytics saved: customer_analytics_results.csv\")\n",
        "\n",
        "# Save segment summary\n",
        "segment_summary.to_csv('customer_segment_summary.csv')\n",
        "print(f\"✅ Segment summary saved: customer_segment_summary.csv\")\n",
        "\n",
        "# Save category analysis\n",
        "category_analysis.to_csv('product_category_analysis.csv')\n",
        "print(f\"✅ Category analysis saved: product_category_analysis.csv\")\n",
        "\n",
        "# Save high-risk customers\n",
        "if len(high_risk_customers) > 0:\n",
        "    high_risk_customers[['customer_id', 'monetary', 'recency', 'customer_segment']].to_csv('high_risk_customers_analytics.csv', index=False)\n",
        "    print(f\"✅ High-risk customers saved: high_risk_customers_analytics.csv\")\n",
        "\n",
        "# Save monthly trends\n",
        "monthly_revenue.to_csv('monthly_revenue_trends.csv', index=False)\n",
        "print(f\"✅ Monthly trends saved: monthly_revenue_trends.csv\")\n",
        "\n",
        "print(\"\\n✅ E-COMMERCE DATA ANALYTICS PROJECT COMPLETE!\")\n",
        "print(\"\\n📋 FINAL ANALYTICS SUMMARY:\")\n",
        "print(f\"   📊 Analyzed {total_customers:,} customers across {len(transactions_df):,} transactions\")\n",
        "print(f\"   🎯 Identified {len(customer_analytics['customer_segment'].unique())} distinct customer segments\")\n",
        "print(f\"   📈 Total business value analyzed: ₹{total_revenue:,.2f}\")\n",
        "print(f\"   🚨 High-priority customers identified: {len(high_risk_customers):,}\")\n",
        "print(f\"   💡 Generated {len(category_analysis)} category insights and strategic recommendations\")\n",
        "\n",
        "print(\"\\n🎯 BUSINESS INTELLIGENCE READY FOR IMPLEMENTATION!\")\n",
        "print(\"📊 All analytics files exported for stakeholder review and action planning\")\n",
        "\n",
        "# Display sample results\n",
        "print(\"\\n📋 SAMPLE ANALYTICS PREVIEW:\")\n",
        "print(\"\\nTop 10 Customer Analytics Results:\")\n",
        "print(analytics_summary.head(10).to_string(index=False))\n",
        "\n",
        "print(\"\\nCustomer Segment Distribution:\")\n",
        "print(customer_analytics['customer_segment'].value_counts().to_string())\n",
        "\n",
        "print(\"\\nTop Product Categories:\")\n",
        "print(category_analysis[['total_revenue', 'revenue_share']].head().to_string())"
      ],
      "metadata": {
        "colab": {
          "base_uri": "https://localhost:8080/"
        },
        "id": "z-Ocvjp7PMX7",
        "outputId": "2e156926-145f-4116-83ac-05d6092d687c"
      },
      "execution_count": 17,
      "outputs": [
        {
          "output_type": "stream",
          "name": "stdout",
          "text": [
            "✅ Customer analytics saved: customer_analytics_results.csv\n",
            "✅ Segment summary saved: customer_segment_summary.csv\n",
            "✅ Category analysis saved: product_category_analysis.csv\n",
            "✅ High-risk customers saved: high_risk_customers_analytics.csv\n",
            "✅ Monthly trends saved: monthly_revenue_trends.csv\n",
            "\n",
            "✅ E-COMMERCE DATA ANALYTICS PROJECT COMPLETE!\n",
            "\n",
            "📋 FINAL ANALYTICS SUMMARY:\n",
            "   📊 Analyzed 4,160 customers across 25,000 transactions\n",
            "   🎯 Identified 7 distinct customer segments\n",
            "   📈 Total business value analyzed: ₹16,749,056.06\n",
            "   🚨 High-priority customers identified: 171\n",
            "   💡 Generated 8 category insights and strategic recommendations\n",
            "\n",
            "🎯 BUSINESS INTELLIGENCE READY FOR IMPLEMENTATION!\n",
            "📊 All analytics files exported for stakeholder review and action planning\n",
            "\n",
            "📋 SAMPLE ANALYTICS PREVIEW:\n",
            "\n",
            "Top 10 Customer Analytics Results:\n",
            "customer_id  age      city acquisition_channel customer_segment  monetary  frequency  recency customer_status\n",
            " CUST_00001   40 Ahmedabad        Social Media        Champions   9503.22         19       49          Active\n",
            " CUST_00002   33    Mumbai        Social Media           Others   9628.42         11      148         Churned\n",
            " CUST_00003   42 Ahmedabad        Social Media    New Customers   1246.53          2       39          Active\n",
            " CUST_00004   53      Pune        Social Media           Others   3831.65          6      122         Churned\n",
            " CUST_00005   32   Chennai        Social Media           Others    884.46          2      437         Churned\n",
            " CUST_00006   32 Ahmedabad            Paid Ads  Loyal Customers   5358.70          8       47          Active\n",
            " CUST_00007   53 Bangalore      Organic Search           Others    769.73          1      641         Churned\n",
            " CUST_00008   44   Chennai            Referral           Others   3537.54          3       46          Active\n",
            " CUST_00009   29      Pune               Email  Loyal Customers   4312.96          8       49          Active\n",
            " CUST_00010   41   Kolkata      Organic Search    New Customers    348.64          2       51          Active\n",
            "\n",
            "Customer Segment Distribution:\n",
            "customer_segment\n",
            "Others              2496\n",
            "Champions            823\n",
            "Loyal Customers      476\n",
            "New Customers        240\n",
            "Hibernating           64\n",
            "Cannot Lose Them      39\n",
            "At Risk               22\n",
            "\n",
            "Top Product Categories:\n",
            "                  total_revenue  revenue_share\n",
            "product_category                              \n",
            "Electronics          3287363.06           19.6\n",
            "Clothing             2976613.02           17.8\n",
            "Home & Garden        2480188.32           14.8\n",
            "Books                2047607.06           12.2\n",
            "Beauty               1745355.77           10.4\n"
          ]
        }
      ]
    }
  ]
}